{
 "cells": [
  {
   "cell_type": "code",
   "execution_count": 1,
   "metadata": {
    "id": "lqP0FrMfDDkt"
   },
   "outputs": [],
   "source": [
    "# encoding=utf8\n",
    "\n",
    "# importacion general de librerias y de visualizacion (matplotlib y seaborn)\n",
    "import pandas as pd\n",
    "import numpy as np\n",
    "import matplotlib.pyplot as plt\n",
    "import seaborn as sns\n",
    "import xgboost as xgb\n",
    "from sklearn.ensemble import RandomForestRegressor\n",
    "from sklearn.metrics import mean_squared_error\n",
    "from sklearn import tree\n",
    "\n",
    "\n",
    "%matplotlib inline\n",
    "\n",
    "plt.style.use('default') # haciendo los graficos un poco mas bonitos en matplotlib\n",
    "#plt.rcParams['figure.figsize'] = (20, 10)\n",
    "\n",
    "sns.set(style=\"whitegrid\") # seteando tipo de grid en seaborn\n",
    "\n",
    "pd.options.display.float_format = '{:20,.2f}'.format # suprimimos la notacion cientifica en los outputs\n",
    "\n",
    "import warnings\n",
    "warnings.filterwarnings('ignore')"
   ]
  },
  {
   "cell_type": "code",
   "execution_count": 2,
   "metadata": {
    "colab": {
     "base_uri": "https://localhost:8080/",
     "height": 129
    },
    "id": "Ruk0iWTxDJnA",
    "outputId": "8c099148-145c-434b-a32b-30c45d4aa48f"
   },
   "outputs": [],
   "source": [
    "data_train = pd.read_csv('data/clean_Data.csv',dtype = {\n",
    "    \"building_id\" : \"int32\",\n",
    "    \"geo_level_1_id\" : \"int8\", \n",
    "    \"geo_level_2_id\" : \"int16\",\n",
    "    \"geo_level_3_id\" : \"int16\",\n",
    "    \"count_floors_pre_eq\" : \"int8\",\n",
    "    \"age\" : \"int16\",\n",
    "    \"area_percentage\" :\"int8\",\n",
    "    \"height_percentage\" :\"int8\",\n",
    "    \"land_surface_condition\" :\"category\",\n",
    "    \"foundation_type\" :\"category\",\n",
    "    \"roof_type\" :\"category\",\n",
    "    \"ground_floor_type\" :\"category\",\n",
    "    \"other_floor_type\" :\"category\",\n",
    "    \"position\" :\"category\",\n",
    "    \"plan_configuration\" :\"category\",\n",
    "    \"has_superstructure_adobe_mud\" : \"bool\",\n",
    "    \"has_superstructure_mud_mortar_stone\" : \"bool\",\n",
    "    \"has_superstructure_stone_flag\" : \"bool\",\n",
    "    \"has_superstructure_cement_mortar_stone\" : \"bool\",\n",
    "    \"has_superstructure_mud_mortar_brick\" : \"bool\",\n",
    "    \"has_superstructure_cement_mortar_brick\" : \"bool\",\n",
    "    \"has_superstructure_timber\" : \"bool\",\n",
    "    \"has_superstructure_bamboo\" : \"bool\",\n",
    "    \"has_superstructure_rc_non_engineered\" : \"bool\",\n",
    "    \"has_superstructure_rc_engineered\" : \"bool\",\n",
    "    \"has_superstructure_other\" : \"bool\",\n",
    "    \"legal_ownership_status\" :\"category\",\n",
    "    \"count_families\" : \"int8\",\n",
    "    \"has_secondary_use\" : \"bool\",\n",
    "    \"has_secondary_use_agriculture\" : \"bool\",\n",
    "    \"has_secondary_use_hotel\" : \"bool\",\n",
    "    \"has_secondary_use_rental\" : \"bool\",\n",
    "    \"has_secondary_use_institution\" : \"bool\",\n",
    "    \"has_secondary_use_school\" : \"bool\",\n",
    "    \"has_secondary_use_industry\" : \"bool\",\n",
    "    \"has_secondary_use_health_post\" : \"bool\",\n",
    "    \"has_secondary_use_gov_office\" : \"bool\",\n",
    "    \"has_secondary_use_use_police\" : \"bool\",\n",
    "    \"has_secondary_use_other\" : \"bool\",\n",
    "    \"damage_grade\" : \"category\" \n",
    "                    \n",
    "})"
   ]
  },
  {
   "cell_type": "code",
   "execution_count": 3,
   "metadata": {
    "id": "wobjFpS7DJ6O"
   },
   "outputs": [],
   "source": [
    "data_test = pd.read_csv('data/clean_Data.csv')"
   ]
  },
  {
   "cell_type": "code",
   "execution_count": null,
   "metadata": {
    "id": "UZQK0I5xDeq_"
   },
   "outputs": [],
   "source": []
  }
 ],
 "metadata": {
  "colab": {
   "collapsed_sections": [],
   "name": "Untitled4.ipynb",
   "provenance": []
  },
  "kernelspec": {
   "display_name": "Python 3",
   "language": "python",
   "name": "python3"
  },
  "language_info": {
   "codemirror_mode": {
    "name": "ipython",
    "version": 3
   },
   "file_extension": ".py",
   "mimetype": "text/x-python",
   "name": "python",
   "nbconvert_exporter": "python",
   "pygments_lexer": "ipython3",
   "version": "3.8.5"
  }
 },
 "nbformat": 4,
 "nbformat_minor": 1
}
